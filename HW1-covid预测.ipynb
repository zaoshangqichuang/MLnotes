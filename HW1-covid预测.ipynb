{
  "nbformat": 4,
  "nbformat_minor": 0,
  "metadata": {
    "accelerator": "GPU",
    "colab": {
      "name": "covid预测.ipynb",
      "provenance": [],
      "collapsed_sections": [],
      "authorship_tag": "ABX9TyPvM7HO7lPxs4zYwejJNzDL",
      "include_colab_link": true
    },
    "kernelspec": {
      "display_name": "Python 3",
      "name": "python3"
    },
    "language_info": {
      "name": "python"
    }
  },
  "cells": [
    {
      "cell_type": "markdown",
      "metadata": {
        "id": "view-in-github",
        "colab_type": "text"
      },
      "source": [
        "<a href=\"https://colab.research.google.com/github/zaoshangqichuang/MLnotes/blob/main/HW1-covid%E9%A2%84%E6%B5%8B.ipynb\" target=\"_parent\"><img src=\"https://colab.research.google.com/assets/colab-badge.svg\" alt=\"Open In Colab\"/></a>"
      ]
    },
    {
      "cell_type": "markdown",
      "metadata": {
        "id": "5Q6gdwLk5QZq"
      },
      "source": [
        "##covid_test 数据集说明\n",
        "\n",
        "\n",
        "1~40列 one-hot编码  \n",
        "剩下的53列为特征"
      ]
    },
    {
      "cell_type": "code",
      "metadata": {
        "id": "lilVyvMEVeNV"
      },
      "source": [
        "import torch\n",
        "import torch.nn as nn\n",
        "from torch.utils.data import Dataset,DataLoader\n",
        "\n",
        "import numpy as np\n",
        "import csv\n",
        "import os\n",
        "\n",
        "import matplotlib.pyplot as plt\n",
        "myseed = 42069  # set a random seed for reproducibility\n",
        "torch.backends.cudnn.deterministic = True\n",
        "torch.backends.cudnn.benchmark = False\n",
        "np.random.seed(myseed)\n",
        "torch.manual_seed(myseed)\n",
        "if torch.cuda.is_available():\n",
        "    torch.cuda.manual_seed_all(myseed)"
      ],
      "execution_count": 1,
      "outputs": []
    },
    {
      "cell_type": "markdown",
      "metadata": {
        "id": "Z64hKuoDgcop"
      },
      "source": [
        "## 定义一些方法"
      ]
    },
    {
      "cell_type": "code",
      "metadata": {
        "id": "nuySsVXrXP3_"
      },
      "source": [
        "def get_device():\n",
        "    ''' Get device (if GPU is available, use GPU) '''\n",
        "    return 'cuda' if torch.cuda.is_available() else 'cpu'\n",
        "def plot_learning_curve(loss_record,title=\"\"):\n",
        "  total_steps = len(loss_record['train'])\n",
        "  x_1 = range(total_steps)\n",
        "  x_2 = x_1[::len(loss_record['train'])//len(loss_record['dev'])]\n",
        "  plt.figure(figsize=(6,4))\n",
        "  plt.plot(x_1,loss_record['train'],c='tab:red',label='train')\n",
        "  plt.plot(x_2,loss_record['dev'],c='tab:cyan',label='dev')\n",
        "  plt.ylim(0.0,5.0)\n",
        "  plt.xlabel('Training steps')\n",
        "  plt.ylabel('MSE Loss')\n",
        "  plt.title(\"learning curve of {}\".format(title))\n",
        "  plt.legend()\n",
        "  plt.show()\n",
        "def plot_pred(dv_set, model, device, lim=35., preds=None, targets=None):\n",
        "    ''' Plot prediction of your DNN '''\n",
        "    if preds is None or targets is None:\n",
        "        model.eval()\n",
        "        preds, targets = [], []\n",
        "        for x, y in dv_set:\n",
        "            x, y = x.to(device), y.to(device)\n",
        "            with torch.no_grad():\n",
        "                pred = model(x)\n",
        "                preds.append(pred.detach().cpu())\n",
        "                targets.append(y.detach().cpu())\n",
        "        preds = torch.cat(preds, dim=0).numpy()\n",
        "        targets = torch.cat(targets, dim=0).numpy()\n",
        "\n",
        "    plt.figure(figsize=(5, 5))\n",
        "    plt.scatter(targets, preds, c='r', alpha=0.5)\n",
        "    plt.plot([-0.2, lim], [-0.2, lim], c='b')\n",
        "    plt.xlim(-0.2, lim)\n",
        "    plt.ylim(-0.2, lim)\n",
        "    plt.xlabel('ground truth value')\n",
        "    plt.ylabel('predicted value')\n",
        "    plt.title('Ground Truth v.s. Prediction')\n",
        "    plt.show()"
      ],
      "execution_count": 3,
      "outputs": []
    },
    {
      "cell_type": "markdown",
      "metadata": {
        "id": "EfZj-NwT2YrX"
      },
      "source": [
        "## 数据load和预处理"
      ]
    },
    {
      "cell_type": "markdown",
      "metadata": {
        "id": "IR6SGPHXbMYO"
      },
      "source": [
        "### 读入数据"
      ]
    },
    {
      "cell_type": "code",
      "metadata": {
        "colab": {
          "base_uri": "https://localhost:8080/"
        },
        "id": "9xJO9v1nagJH",
        "outputId": "f4318723-8724-4eb8-c8d6-e073ed1998ce"
      },
      "source": [
        "!gdown --id '11V-CWwxgTb5_ixOWLs5tcDauDyd99Nev' --output covid_test.csv\n",
        "!gdown --id '1gUATFaDmu08C4BwsIZYjMspGr18EjQiL' --output covid_train.csv"
      ],
      "execution_count": 4,
      "outputs": [
        {
          "output_type": "stream",
          "name": "stdout",
          "text": [
            "Downloading...\n",
            "From: https://drive.google.com/uc?id=11V-CWwxgTb5_ixOWLs5tcDauDyd99Nev\n",
            "To: /content/covid_test.csv\n",
            "100% 650k/650k [00:00<00:00, 10.2MB/s]\n",
            "Downloading...\n",
            "From: https://drive.google.com/uc?id=1gUATFaDmu08C4BwsIZYjMspGr18EjQiL\n",
            "To: /content/covid_train.csv\n",
            "100% 2.00M/2.00M [00:00<00:00, 31.1MB/s]\n"
          ]
        }
      ]
    },
    {
      "cell_type": "code",
      "metadata": {
        "id": "m2oHk-bUVWbh"
      },
      "source": [
        "class covid19dataset(Dataset):\n",
        "  #dataset for loading and preprocessing the covid19 dataset\n",
        "  def __init__(self,path,mode='train',target_only=False):\n",
        "    self.mode = mode\n",
        "    with open(path,\"r\") as fp:\n",
        "      data = list(csv.reader(fp))\n",
        "      data = np.array(data[1:])[:,1:].astype(float)\n",
        "    if not target_only:\n",
        "      features = list(range(data.shape[1]-1))\n",
        "    else:\n",
        "      pass\n",
        "    \n",
        "    if mode == \"test\":\n",
        "      self.data = torch.FloatTensor(data)\n",
        "    else:\n",
        "      target = data[:,-1]\n",
        "      data = data[:,features]\n",
        "      #交叉验证\n",
        "      #将training data 分成train和dev datasets\n",
        "      if mode == \"train\":\n",
        "        indices = [i for i in range(len(data)) if i%10 != 0]\n",
        "      elif mode == \"dev\":\n",
        "        indices = [i for i in range(len(data)) if i%10 == 0]\n",
        "\n",
        "      self.data = torch.FloatTensor(data[indices])\n",
        "      self.target = torch.FloatTensor(target[indices])\n",
        "    \n",
        "    #对于特征进行标准化处理\n",
        "    #keepdim表示输入与输出的维度一致\n",
        "    self.data[:,40:]=(self.data[:,40:]-self.data[:,40:]-self.data[:,40:].mean(dim=0,keepdim=True))/self.data[:,40:].std(dim=0,keepdim=True)\n",
        "    self.dim = self.data.shape[1]\n",
        "    print('Finished reading the {} set of covid dataset {} samples found,each dim={}'.format(mode,len(self.data),self.dim))\n",
        "  def __getitem__(self,index):\n",
        "    if self.mode in [\"train\",\"dev\"]:\n",
        "      return self.data[index],self.target[index]\n",
        "    else:\n",
        "      return self.data[index]\n",
        "  def __len__(self):\n",
        "    return len(self.data)   "
      ],
      "execution_count": 5,
      "outputs": []
    },
    {
      "cell_type": "markdown",
      "metadata": {
        "id": "truX2F0EbRYf"
      },
      "source": [
        "### dataset转换为可迭代的batch"
      ]
    },
    {
      "cell_type": "code",
      "metadata": {
        "id": "NAoOB_Dp_x40"
      },
      "source": [
        "#将dataset变成batches\n",
        "#dataloader本质是一个可迭代对象，使用iter()访问，不能使用next()访问\n",
        "def prep_dataloader(path,mode,batch_size,n_jobs=0,target_only=False):\n",
        "  dataset = covid19dataset(path,mode=mode,target_only=target_only)\n",
        "  dataloader = DataLoader(dataset,batch_size,shuffle=(mode=='train'),drop_last=False,num_workers=n_jobs,pin_memory=True)\n",
        "  return dataloader"
      ],
      "execution_count": 6,
      "outputs": []
    },
    {
      "cell_type": "markdown",
      "metadata": {
        "id": "2-ajiMHHhga4"
      },
      "source": [
        "### 特征选择"
      ]
    },
    {
      "cell_type": "code",
      "metadata": {
        "id": "aOg_5wxuhmoo",
        "colab": {
          "base_uri": "https://localhost:8080/"
        },
        "outputId": "4f5502ec-7524-4cfa-e7ce-9b70b699b58b"
      },
      "source": [
        "from sklearn.feature_selection import SelectKBest\n",
        "from sklearn.feature_selection import f_regression\n",
        "import pandas as pd\n",
        "df = pd.read_csv('covid_train.csv')\n",
        "df1 = pd.read_csv('covid_test.csv')\n",
        "x = df[df.columns[1:-1]]\n",
        "y = df[df.columns[-1]]\n",
        "x = (x-x.min())/(x.max()-x.min())\n",
        "best_features = SelectKBest(score_func=f_regression,k=5)\n",
        "fit = best_features.fit(x,y)\n",
        "dfscores = pd.DataFrame(fit.scores_)\n",
        "dfcolumns = pd.DataFrame(x.columns)\n",
        "featureScores = pd.concat([dfcolumns,dfscores],axis=1)\n",
        "featureScores.columns=['Specs','Score']\n",
        "u_features=x.columns[:40].to_list()+['tested_positive','tested_positive.1']\n",
        "#featureScores=featureScores[~featureScores['Specs'].isin(u_features)]\n",
        "k_features = featureScores.nlargest(15,'Score')['Specs'].tolist()\n",
        "print(k_features)\n",
        "#选择除了40个州和两天的病例比例外最优的15个特征\n",
        "#covid_train = pd.concat([df['id'],df[u_features],df[k_features],y],axis=1)\n",
        "#covid_test = pd.concat([df1['id'],df1[u_features],df1[k_features]],axis=1)\n",
        "covid_train = pd.concat([df['id'],df[k_features],y],axis=1)\n",
        "covid_test = pd.concat([df1['id'],df1[k_features]],axis=1)\n",
        "covid_train.to_csv(\"covid_train_f.csv\",index=False)\n",
        "covid_test.to_csv(\"covid_test_f.csv\",index=False)"
      ],
      "execution_count": 7,
      "outputs": [
        {
          "output_type": "stream",
          "name": "stdout",
          "text": [
            "['tested_positive.1', 'tested_positive', 'hh_cmnty_cli', 'hh_cmnty_cli.1', 'hh_cmnty_cli.2', 'nohh_cmnty_cli', 'nohh_cmnty_cli.1', 'nohh_cmnty_cli.2', 'cli', 'cli.1', 'cli.2', 'ili', 'ili.1', 'ili.2', 'worried_finances.2']\n"
          ]
        }
      ]
    },
    {
      "cell_type": "markdown",
      "metadata": {
        "id": "XUqj6rklgrQ2"
      },
      "source": [
        "## 构建神经网络"
      ]
    },
    {
      "cell_type": "code",
      "metadata": {
        "id": "pk8BAV2VCcqD"
      },
      "source": [
        "#deep neural network\n",
        "'''\n",
        "PyTorch的nn.Linear（）是用于设置网络中的全连接层的，需要注意在二维图像处理的任务中，\n",
        "全连接层的输入与输出一般都设置为二维张量，\n",
        "形状通常为[batch_size, size]，不同于卷积层要求输入输出是四维张量\n",
        "'''\n",
        "class NeuralNet(nn.Module):\n",
        "  def __init__(self,input_dim):\n",
        "    super(NeuralNet,self).__init__()\n",
        "    self.net = nn.Sequential(nn.Linear(input_dim,64),nn.ReLU(True),nn.Linear(64,1))\n",
        "    self.criterion = nn.MSELoss(reduction='mean')\n",
        "  def forward(self,x):\n",
        "    return self.net(x).squeeze(1)\n",
        "  def cal_loss(self,pred,target):\n",
        "    #加入正则项\n",
        "    regularization_loss = 0\n",
        "    for param in model.parameters():\n",
        "      regularization_loss += torch.sum(param**2)\n",
        "    return self.criterion(pred,target)+0.00075*regularization_loss"
      ],
      "execution_count": 8,
      "outputs": []
    },
    {
      "cell_type": "markdown",
      "metadata": {
        "id": "DMjim0Nfg2Dv"
      },
      "source": [
        "## 神经网络训练步骤"
      ]
    },
    {
      "cell_type": "markdown",
      "metadata": {
        "id": "5Xb--vC_g7YG"
      },
      "source": [
        "### 训练"
      ]
    },
    {
      "cell_type": "code",
      "metadata": {
        "id": "1EikTfYVIZUU"
      },
      "source": [
        "\n",
        "def train(tr_set,dv_set,model,config,device):\n",
        "  n_epochs = config['n_epochs']\n",
        "  optimizer = getattr(torch.optim,config['optimizer'])(model.parameters(),**config['optim_hparas'])\n",
        "  min_mse = 1000.\n",
        "  loss_record = {'train':[],'dev':[]}\n",
        "  early_stop_cnt = 0\n",
        "  epoch = 0\n",
        "  while epoch < n_epochs:\n",
        "    model.train()\n",
        "    for x,y in tr_set:\n",
        "      optimizer.zero_grad()#set gradient=0\n",
        "      x,y = x.to(device),y.to(device)\n",
        "      pred = model(x) #compute output\n",
        "      mse_loss = model.cal_loss(pred,y) #compute loss\n",
        "      mse_loss.backward() #compute gradient\n",
        "      optimizer.step() #update model with optimizer\n",
        "      #detach阻断反向传播，返回值仍为tensor\n",
        "      loss_record['train'].append(mse_loss.detach().cpu().item())\n",
        "    dev_mse = dev(dv_set,model,device)\n",
        "    if dev_mse < min_mse:\n",
        "      min_mse = dev_mse\n",
        "      print('saving model(epoch={:4d},loss={:.4f})'.format(epoch+1,min_mse))\n",
        "      #保存每一步的模型参数\n",
        "      torch.save(model.state_dict(),config['save_path'])\n",
        "      early_stop_cnt =0\n",
        "    else:\n",
        "      early_stop_cnt += 1\n",
        "    epoch += 1\n",
        "    loss_record['dev'].append(dev_mse)\n",
        "    if early_stop_cnt > config['early_stop']:\n",
        "      break\n",
        "  print('Finished training after {} epochs'.format(epoch))\n",
        "  return min_mse,loss_record"
      ],
      "execution_count": 9,
      "outputs": []
    },
    {
      "cell_type": "markdown",
      "metadata": {
        "id": "dEBb0K1Vg_gW"
      },
      "source": [
        "### 交叉验证"
      ]
    },
    {
      "cell_type": "code",
      "metadata": {
        "id": "w7x9V_qvOIpW"
      },
      "source": [
        "#验证集验证\n",
        "def dev(dv_set,model,device):\n",
        "  model.eval()#set model to evaluation model\n",
        "  total_loss = 0\n",
        "  for x,y in dv_set:\n",
        "    x,y = x.to(device),y.to(device)\n",
        "    with torch.no_grad():\n",
        "      pred = model(x)\n",
        "      mse_loss = model.cal_loss(pred,y)\n",
        "    total_loss += mse_loss.detach().cpu().item()*len(x)\n",
        "  total_loss = total_loss/len(dv_set.dataset)\n",
        "  return total_loss"
      ],
      "execution_count": 10,
      "outputs": []
    },
    {
      "cell_type": "markdown",
      "metadata": {
        "id": "HjMjZdjthCmP"
      },
      "source": [
        "### 测试集评估"
      ]
    },
    {
      "cell_type": "code",
      "metadata": {
        "id": "n7Kl5PRNPucV"
      },
      "source": [
        "#测试集评估\n",
        "def test(tt_set,model,device):\n",
        "  model.eval()\n",
        "  preds = []\n",
        "  for x in tt_set:\n",
        "    x = x.to(device)\n",
        "    with torch.no_grad():\n",
        "      pred = model(x)\n",
        "      preds.append(pred.detach().cpu())\n",
        "  preds = torch.cat(preds,dim=0).numpy()\n",
        "  return preds"
      ],
      "execution_count": 11,
      "outputs": []
    },
    {
      "cell_type": "markdown",
      "metadata": {
        "id": "t8rG8MyghGfn"
      },
      "source": [
        "## 参数设置"
      ]
    },
    {
      "cell_type": "code",
      "metadata": {
        "id": "I09dGJHgRXPm"
      },
      "source": [
        "#参数设置\n",
        "device = get_device()\n",
        "os.makedirs('models',exist_ok=True)\n",
        "target_only = False\n",
        "config ={\n",
        "    'n_epochs':2000,\n",
        "    'batch_size':250,\n",
        "    'optimizer':'Adam',#优化算法\n",
        "    'optim_hparas':{\n",
        "        #使用默认参数\n",
        "       # 'lr':0.0001,#learning rate\n",
        "       # 'momentum':0.9 #动量\n",
        "    },\n",
        "    'early_stop':500,\n",
        "    'save_path':'models/model.pth'\n",
        "}"
      ],
      "execution_count": 19,
      "outputs": []
    },
    {
      "cell_type": "markdown",
      "metadata": {
        "id": "W2v7gQJDhK4H"
      },
      "source": [
        "## 训练过程"
      ]
    },
    {
      "cell_type": "code",
      "metadata": {
        "colab": {
          "base_uri": "https://localhost:8080/"
        },
        "id": "qdWskSYzUpDM",
        "outputId": "96af95b6-96b5-4eb8-b47d-48aec55e2343"
      },
      "source": [
        "tr_path = \"covid_train_f.csv\"\n",
        "tt_path = \"covid_test_f.csv\"\n",
        "tr_set = prep_dataloader(tr_path,'train',config['batch_size'],target_only=False)\n",
        "dv_set = prep_dataloader(tr_path,'dev',config['batch_size'],target_only=False)\n",
        "tt_set = prep_dataloader(tt_path,'test',config['batch_size'],target_only=False)"
      ],
      "execution_count": 13,
      "outputs": [
        {
          "output_type": "stream",
          "name": "stdout",
          "text": [
            "Finished reading the train set of covid dataset 2430 samples found,each dim=15\n",
            "Finished reading the dev set of covid dataset 270 samples found,each dim=15\n",
            "Finished reading the test set of covid dataset 893 samples found,each dim=15\n"
          ]
        }
      ]
    },
    {
      "cell_type": "code",
      "metadata": {
        "id": "07j6cAXCWCin"
      },
      "source": [
        "model = NeuralNet(tr_set.dataset.dim).to(device)"
      ],
      "execution_count": 20,
      "outputs": []
    },
    {
      "cell_type": "code",
      "metadata": {
        "colab": {
          "base_uri": "https://localhost:8080/"
        },
        "id": "dQtGJ5FxWcAN",
        "outputId": "d5c72298-7459-42ab-a76c-794cc2f8a593"
      },
      "source": [
        "model_loss,model_loss_record = train(tr_set,dv_set,model,config,device)"
      ],
      "execution_count": 21,
      "outputs": [
        {
          "output_type": "stream",
          "name": "stdout",
          "text": [
            "saving model(epoch=   1,loss=47.3450)\n",
            "saving model(epoch=   2,loss=25.1148)\n",
            "saving model(epoch=   3,loss=24.9161)\n",
            "saving model(epoch=   4,loss=18.7612)\n",
            "saving model(epoch=   5,loss=17.6214)\n",
            "saving model(epoch=   6,loss=15.6438)\n",
            "saving model(epoch=   7,loss=14.2058)\n",
            "saving model(epoch=   8,loss=12.8150)\n",
            "saving model(epoch=   9,loss=11.5388)\n",
            "saving model(epoch=  10,loss=10.2725)\n",
            "saving model(epoch=  11,loss=9.1608)\n",
            "saving model(epoch=  12,loss=8.0999)\n",
            "saving model(epoch=  13,loss=7.1867)\n",
            "saving model(epoch=  14,loss=6.3710)\n",
            "saving model(epoch=  15,loss=5.6803)\n",
            "saving model(epoch=  16,loss=5.0386)\n",
            "saving model(epoch=  17,loss=4.5345)\n",
            "saving model(epoch=  18,loss=4.0050)\n",
            "saving model(epoch=  19,loss=3.5797)\n",
            "saving model(epoch=  20,loss=3.1289)\n",
            "saving model(epoch=  21,loss=2.7397)\n",
            "saving model(epoch=  22,loss=2.3960)\n",
            "saving model(epoch=  23,loss=2.1121)\n",
            "saving model(epoch=  24,loss=1.8905)\n",
            "saving model(epoch=  25,loss=1.7216)\n",
            "saving model(epoch=  26,loss=1.5718)\n",
            "saving model(epoch=  27,loss=1.4391)\n",
            "saving model(epoch=  28,loss=1.3674)\n",
            "saving model(epoch=  29,loss=1.3078)\n",
            "saving model(epoch=  30,loss=1.2710)\n",
            "saving model(epoch=  31,loss=1.2477)\n",
            "saving model(epoch=  33,loss=1.2383)\n",
            "saving model(epoch=  34,loss=1.2179)\n",
            "saving model(epoch=  35,loss=1.2137)\n",
            "saving model(epoch=  40,loss=1.2078)\n",
            "saving model(epoch=  41,loss=1.1869)\n",
            "saving model(epoch=  42,loss=1.1836)\n",
            "saving model(epoch=  44,loss=1.1827)\n",
            "saving model(epoch=  45,loss=1.1824)\n",
            "saving model(epoch=  47,loss=1.1792)\n",
            "saving model(epoch=  48,loss=1.1757)\n",
            "saving model(epoch=  49,loss=1.1716)\n",
            "saving model(epoch=  50,loss=1.1597)\n",
            "saving model(epoch=  52,loss=1.1530)\n",
            "saving model(epoch=  59,loss=1.1469)\n",
            "saving model(epoch=  60,loss=1.1339)\n",
            "saving model(epoch=  64,loss=1.1229)\n",
            "saving model(epoch=  65,loss=1.1204)\n",
            "saving model(epoch=  66,loss=1.1173)\n",
            "saving model(epoch=  67,loss=1.1127)\n",
            "saving model(epoch=  68,loss=1.1109)\n",
            "saving model(epoch=  70,loss=1.1046)\n",
            "saving model(epoch=  72,loss=1.1028)\n",
            "saving model(epoch=  74,loss=1.0998)\n",
            "saving model(epoch=  76,loss=1.0959)\n",
            "saving model(epoch=  77,loss=1.0873)\n",
            "saving model(epoch=  84,loss=1.0812)\n",
            "saving model(epoch=  91,loss=1.0750)\n",
            "saving model(epoch=  92,loss=1.0593)\n",
            "saving model(epoch=  93,loss=1.0548)\n",
            "saving model(epoch=  97,loss=1.0450)\n",
            "saving model(epoch=  98,loss=1.0396)\n",
            "saving model(epoch=  99,loss=1.0366)\n",
            "saving model(epoch= 100,loss=1.0352)\n",
            "saving model(epoch= 105,loss=1.0242)\n",
            "saving model(epoch= 107,loss=1.0200)\n",
            "saving model(epoch= 109,loss=1.0160)\n",
            "saving model(epoch= 113,loss=1.0074)\n",
            "saving model(epoch= 114,loss=1.0057)\n",
            "saving model(epoch= 115,loss=1.0033)\n",
            "saving model(epoch= 116,loss=1.0014)\n",
            "saving model(epoch= 117,loss=1.0014)\n",
            "saving model(epoch= 120,loss=0.9936)\n",
            "saving model(epoch= 126,loss=0.9816)\n",
            "saving model(epoch= 130,loss=0.9777)\n",
            "saving model(epoch= 133,loss=0.9715)\n",
            "saving model(epoch= 138,loss=0.9669)\n",
            "saving model(epoch= 140,loss=0.9598)\n",
            "saving model(epoch= 144,loss=0.9530)\n",
            "saving model(epoch= 146,loss=0.9487)\n",
            "saving model(epoch= 149,loss=0.9443)\n",
            "saving model(epoch= 150,loss=0.9419)\n",
            "saving model(epoch= 153,loss=0.9386)\n",
            "saving model(epoch= 155,loss=0.9362)\n",
            "saving model(epoch= 158,loss=0.9302)\n",
            "saving model(epoch= 163,loss=0.9292)\n",
            "saving model(epoch= 166,loss=0.9226)\n",
            "saving model(epoch= 167,loss=0.9213)\n",
            "saving model(epoch= 172,loss=0.9170)\n",
            "saving model(epoch= 173,loss=0.9131)\n",
            "saving model(epoch= 174,loss=0.9112)\n",
            "saving model(epoch= 178,loss=0.9062)\n",
            "saving model(epoch= 181,loss=0.9055)\n",
            "saving model(epoch= 183,loss=0.9053)\n",
            "saving model(epoch= 184,loss=0.9028)\n",
            "saving model(epoch= 185,loss=0.9022)\n",
            "saving model(epoch= 188,loss=0.8956)\n",
            "saving model(epoch= 189,loss=0.8950)\n",
            "saving model(epoch= 195,loss=0.8931)\n",
            "saving model(epoch= 197,loss=0.8885)\n",
            "saving model(epoch= 198,loss=0.8883)\n",
            "saving model(epoch= 199,loss=0.8848)\n",
            "saving model(epoch= 200,loss=0.8832)\n",
            "saving model(epoch= 210,loss=0.8780)\n",
            "saving model(epoch= 213,loss=0.8727)\n",
            "saving model(epoch= 215,loss=0.8707)\n",
            "saving model(epoch= 219,loss=0.8672)\n",
            "saving model(epoch= 224,loss=0.8630)\n",
            "saving model(epoch= 231,loss=0.8591)\n",
            "saving model(epoch= 235,loss=0.8568)\n",
            "saving model(epoch= 246,loss=0.8544)\n",
            "saving model(epoch= 249,loss=0.8543)\n",
            "saving model(epoch= 250,loss=0.8534)\n",
            "saving model(epoch= 252,loss=0.8504)\n",
            "saving model(epoch= 254,loss=0.8484)\n",
            "saving model(epoch= 263,loss=0.8439)\n",
            "saving model(epoch= 266,loss=0.8437)\n",
            "saving model(epoch= 268,loss=0.8407)\n",
            "saving model(epoch= 273,loss=0.8399)\n",
            "saving model(epoch= 281,loss=0.8377)\n",
            "saving model(epoch= 282,loss=0.8366)\n",
            "saving model(epoch= 289,loss=0.8333)\n",
            "saving model(epoch= 293,loss=0.8329)\n",
            "saving model(epoch= 298,loss=0.8304)\n",
            "saving model(epoch= 306,loss=0.8303)\n",
            "saving model(epoch= 311,loss=0.8290)\n",
            "saving model(epoch= 315,loss=0.8289)\n",
            "saving model(epoch= 318,loss=0.8278)\n",
            "saving model(epoch= 320,loss=0.8258)\n",
            "saving model(epoch= 329,loss=0.8244)\n",
            "saving model(epoch= 331,loss=0.8236)\n",
            "saving model(epoch= 340,loss=0.8223)\n",
            "saving model(epoch= 348,loss=0.8217)\n",
            "saving model(epoch= 351,loss=0.8215)\n",
            "saving model(epoch= 357,loss=0.8201)\n",
            "saving model(epoch= 367,loss=0.8197)\n",
            "saving model(epoch= 371,loss=0.8192)\n",
            "saving model(epoch= 373,loss=0.8179)\n",
            "saving model(epoch= 375,loss=0.8176)\n",
            "saving model(epoch= 397,loss=0.8156)\n",
            "saving model(epoch= 412,loss=0.8152)\n",
            "saving model(epoch= 441,loss=0.8133)\n",
            "saving model(epoch= 463,loss=0.8130)\n",
            "saving model(epoch= 476,loss=0.8128)\n",
            "saving model(epoch= 495,loss=0.8128)\n",
            "saving model(epoch= 501,loss=0.8127)\n",
            "saving model(epoch= 513,loss=0.8097)\n",
            "saving model(epoch= 878,loss=0.8096)\n",
            "saving model(epoch= 922,loss=0.8091)\n",
            "saving model(epoch=1040,loss=0.8090)\n",
            "saving model(epoch=1047,loss=0.8070)\n",
            "saving model(epoch=1071,loss=0.8041)\n",
            "saving model(epoch=1129,loss=0.8024)\n",
            "saving model(epoch=1251,loss=0.8011)\n",
            "saving model(epoch=1275,loss=0.8009)\n",
            "saving model(epoch=1316,loss=0.8002)\n",
            "Finished training after 1817 epochs\n"
          ]
        }
      ]
    },
    {
      "cell_type": "markdown",
      "metadata": {
        "id": "vBitj_3Ubns_"
      },
      "source": [
        "### 绘制学习曲线"
      ]
    },
    {
      "cell_type": "code",
      "metadata": {
        "colab": {
          "base_uri": "https://localhost:8080/",
          "height": 295
        },
        "id": "Y_pKK16WXdyj",
        "outputId": "d3fa31a5-07d9-4314-b029-8d19a9802720"
      },
      "source": [
        "plot_learning_curve(model_loss_record,title='deep model')"
      ],
      "execution_count": 22,
      "outputs": [
        {
          "output_type": "display_data",
          "data": {
            "image/png": "[encoded data removed]",
            "text/plain": [
              "<Figure size 432x288 with 1 Axes>"
            ]
          },
          "metadata": {
            "needs_background": "light"
          }
        }
      ]
    },
    {
      "cell_type": "markdown",
      "metadata": {
        "id": "h8QRD5XDbsC3"
      },
      "source": [
        "### 查看拟合效果"
      ]
    },
    {
      "cell_type": "code",
      "metadata": {
        "colab": {
          "base_uri": "https://localhost:8080/",
          "height": 350
        },
        "id": "NQXAOhimaFYp",
        "outputId": "48c6a5e1-7866-404e-d448-29400467c6d9"
      },
      "source": [
        "del model\n",
        "model = NeuralNet(tr_set.dataset.dim).to(device)\n",
        "ckpt = torch.load(config['save_path'],map_location='cpu')\n",
        "model.load_state_dict(ckpt)\n",
        "plot_pred(dv_set,model,device)"
      ],
      "execution_count": 23,
      "outputs": [
        {
          "output_type": "display_data",
          "data": {
            "image/png": "[encoded data removed]",
            "text/plain": [
              "<Figure size 360x360 with 1 Axes>"
            ]
          },
          "metadata": {
            "needs_background": "light"
          }
        }
      ]
    },
    {
      "cell_type": "markdown",
      "metadata": {
        "id": "fRLl9QUbTBKF"
      },
      "source": [
        "## 预测"
      ]
    },
    {
      "cell_type": "code",
      "metadata": {
        "colab": {
          "base_uri": "https://localhost:8080/"
        },
        "id": "hp4SAgNhbBXl",
        "outputId": "efa9c8d5-6bad-4488-ba84-d46e60ff3e34"
      },
      "source": [
        "def save_pred(preds, file):\n",
        "    ''' Save predictions to specified file '''\n",
        "    print('Saving results to {}'.format(file))\n",
        "    with open(file, 'w') as fp:\n",
        "        writer = csv.writer(fp)\n",
        "        writer.writerow(['id', 'tested_positive'])\n",
        "        for i, p in enumerate(preds):\n",
        "            writer.writerow([i, p])\n",
        "\n",
        "preds = test(tt_set,model,device)  # predict COVID-19 cases with your model\n",
        "save_pred(preds, 'pred.csv')  "
      ],
      "execution_count": 24,
      "outputs": [
        {
          "output_type": "stream",
          "name": "stdout",
          "text": [
            "Saving results to pred.csv\n"
          ]
        }
      ]
    }
  ]
}